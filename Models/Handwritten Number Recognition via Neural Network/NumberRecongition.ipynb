{
 "cells": [
  {
   "cell_type": "markdown",
   "id": "23b64b7e",
   "metadata": {},
   "source": [
    "Kimberly Adams\n",
    "\n",
    "Spring 2023"
   ]
  },
  {
   "cell_type": "markdown",
   "id": "af6e556e",
   "metadata": {},
   "source": [
    "# Number Recognition via Neural Networks"
   ]
  },
  {
   "cell_type": "markdown",
   "id": "ba0a46a0",
   "metadata": {},
   "source": [
    "*In this project, I will build a convolutional neural network (CNN) to classify handwritten digits from the MNIST dataset.*"
   ]
  },
  {
   "cell_type": "code",
   "execution_count": 1,
   "id": "9f11adaa",
   "metadata": {},
   "outputs": [
    {
     "name": "stderr",
     "output_type": "stream",
     "text": [
      "2023-05-28 09:33:32.167342: I tensorflow/core/platform/cpu_feature_guard.cc:182] This TensorFlow binary is optimized to use available CPU instructions in performance-critical operations.\n",
      "To enable the following instructions: AVX2 FMA, in other operations, rebuild TensorFlow with the appropriate compiler flags.\n"
     ]
    }
   ],
   "source": [
    "# Import libraries\n",
    "import numpy as np\n",
    "from matplotlib import pyplot as plt\n",
    "import seaborn as sns\n",
    "from keras.datasets import mnist\n",
    "from keras.models import Sequential\n",
    "from keras.layers import Dense, Dropout, Flatten\n",
    "from keras.layers.convolutional import Conv2D, MaxPooling2D\n",
    "from keras.utils import np_utils\n",
    "from keras import backend"
   ]
  },
  {
   "cell_type": "code",
   "execution_count": 2,
   "id": "e3fb5ac8",
   "metadata": {},
   "outputs": [],
   "source": [
    "# Load data and target from MNIST data\n",
    "(data_train, target_train), (data_test, target_test) = mnist.load_data()"
   ]
  },
  {
   "cell_type": "markdown",
   "id": "cfc3962b",
   "metadata": {},
   "source": [
    "*Display the first five images in the training data set. Compare these to the first five training labels.*"
   ]
  },
  {
   "cell_type": "code",
   "execution_count": 3,
   "id": "b9ca8301",
   "metadata": {},
   "outputs": [],
   "source": [
    "# Import tensorflow modules\n",
    "import tensorflow as tf\n",
    "from tensorflow.keras import datasets, layers, models"
   ]
  },
  {
   "cell_type": "code",
   "execution_count": 4,
   "id": "bf40e677",
   "metadata": {},
   "outputs": [
    {
     "data": {
      "image/png": "[encoded data removed]",
      "text/plain": [
       "<Figure size 720x720 with 5 Axes>"
      ]
     },
     "metadata": {},
     "output_type": "display_data"
    }
   ],
   "source": [
    "# Define label options\n",
    "class_names = ['0','1','2','3','4','5','6','7','8','9']\n",
    "\n",
    "# Show first 5 images with labels\n",
    "plt.figure(figsize=(10,10))\n",
    "for i in range(5):\n",
    "    plt.subplot(5,5,i+1)\n",
    "    plt.xticks([])\n",
    "    plt.yticks([])\n",
    "    plt.grid(False)\n",
    "    plt.imshow(data_train[i])\n",
    "    plt.xlabel(class_names[target_train[i]])\n",
    "plt.show()"
   ]
  },
  {
   "cell_type": "markdown",
   "id": "75a45377",
   "metadata": {},
   "source": [
    "The first 5 images appear to properly match the numerical labels they have been assigned which is good considering this is the data we are feeding into our classification model.  If these values were already wrong then what would be the point of creating a model from them."
   ]
  },
  {
   "cell_type": "markdown",
   "id": "6a5727d4",
   "metadata": {},
   "source": [
    "*Build and train a Keras CNN classifier on the MNIST training set.*"
   ]
  },
  {
   "cell_type": "code",
   "execution_count": 5,
   "id": "b99693e7",
   "metadata": {},
   "outputs": [],
   "source": [
    "# Set seed\n",
    "np.random.seed(0)"
   ]
  },
  {
   "cell_type": "code",
   "execution_count": 6,
   "id": "c4f0daa8",
   "metadata": {},
   "outputs": [],
   "source": [
    "# Reshape image data into features\n",
    "data_train = data_train.reshape((-1, 28, 28, 1))\n",
    "data_test = data_test.reshape((-1, 28, 28, 1))"
   ]
  },
  {
   "cell_type": "code",
   "execution_count": 7,
   "id": "7a245e22",
   "metadata": {},
   "outputs": [
    {
     "data": {
      "text/plain": [
       "(60000, 28, 28, 1)"
      ]
     },
     "execution_count": 7,
     "metadata": {},
     "output_type": "execute_result"
    }
   ],
   "source": [
    "# View shape of training data\n",
    "data_train.shape"
   ]
  },
  {
   "cell_type": "code",
   "execution_count": 8,
   "id": "239eb2e5",
   "metadata": {},
   "outputs": [
    {
     "data": {
      "text/plain": [
       "(10000, 28, 28, 1)"
      ]
     },
     "execution_count": 8,
     "metadata": {},
     "output_type": "execute_result"
    }
   ],
   "source": [
    "# View shape of test data\n",
    "data_test.shape"
   ]
  },
  {
   "cell_type": "code",
   "execution_count": 9,
   "id": "e3e5f680",
   "metadata": {},
   "outputs": [],
   "source": [
    "# One-hot encode target\n",
    "targetH_train = np_utils.to_categorical(target_train)\n",
    "targetH_test = np_utils.to_categorical(target_test)\n",
    "number_of_classes = targetH_test.shape[1]"
   ]
  },
  {
   "cell_type": "code",
   "execution_count": 10,
   "id": "16bf6069",
   "metadata": {},
   "outputs": [
    {
     "data": {
      "text/plain": [
       "(60000, 10)"
      ]
     },
     "execution_count": 10,
     "metadata": {},
     "output_type": "execute_result"
    }
   ],
   "source": [
    "# View shape of training label data\n",
    "targetH_train.shape"
   ]
  },
  {
   "cell_type": "code",
   "execution_count": 11,
   "id": "e347ba61",
   "metadata": {},
   "outputs": [],
   "source": [
    "# Convert from integers to floats\n",
    "trainX = data_train.astype('float32')\n",
    "testX = data_test.astype('float32')\n",
    "\n",
    "# Rescale pixel intensity to between 0 and 1\n",
    "features_train = trainX / 255\n",
    "features_test = testX / 255"
   ]
  },
  {
   "cell_type": "code",
   "execution_count": 12,
   "id": "3075a48e",
   "metadata": {},
   "outputs": [],
   "source": [
    "# Start neural network sequential model\n",
    "model = Sequential()\n",
    "\n",
    "# Add convolutional layer with 64 filters, a 5x5 window, and ReLU activation function\n",
    "model.add(Conv2D(64, (5, 5), activation='relu', input_shape=(28, 28, 1)))\n",
    "\n",
    "# Add max pooling layer with a 2x2 window\n",
    "model.add(MaxPooling2D(pool_size=(2, 2)))\n",
    "\n",
    "# Add dropout layer\n",
    "model.add(Dropout(0.5))\n",
    "\n",
    "# Add layer to flatten input\n",
    "model.add(Flatten())\n",
    "\n",
    "# Add fully connected layers with a ReLU activation function\n",
    "model.add(Dense(128, activation='relu'))\n",
    "\n",
    "# Add dropout layer\n",
    "model.add(Dropout(0.5))\n",
    "\n",
    "# Add fully connected layers with a softmax activation function\n",
    "model.add(Dense(number_of_classes, activation=\"softmax\"))"
   ]
  },
  {
   "cell_type": "code",
   "execution_count": 13,
   "id": "4b992236",
   "metadata": {},
   "outputs": [],
   "source": [
    "# Compile neural network model\n",
    "model.compile(loss=\"categorical_crossentropy\", # Cross-entropy\n",
    "                optimizer=\"rmsprop\", # Root Mean Square Propagation\n",
    "                metrics=[\"accuracy\"]) # Accuracy performance metric"
   ]
  },
  {
   "cell_type": "code",
   "execution_count": 14,
   "id": "fee234f3",
   "metadata": {},
   "outputs": [
    {
     "data": {
      "text/plain": [
       "<keras.callbacks.History at 0x7fc61d6cd370>"
      ]
     },
     "execution_count": 14,
     "metadata": {},
     "output_type": "execute_result"
    }
   ],
   "source": [
    "# Fit neural network model to training data\n",
    "model.fit(features_train, # Features\n",
    "            targetH_train, # Target\n",
    "            epochs=2, # Number of epochs\n",
    "            verbose=0, # Don't print description after each epoch\n",
    "            batch_size=64, # Number of observations per batch\n",
    "            validation_data=(features_test, targetH_test)) # Data for evaluation"
   ]
  },
  {
   "cell_type": "code",
   "execution_count": 15,
   "id": "e451875a",
   "metadata": {},
   "outputs": [
    {
     "name": "stdout",
     "output_type": "stream",
     "text": [
      "Accuracy Score =  98.35000038146973 %\n"
     ]
    }
   ],
   "source": [
    "# Calculate and print model accuracy\n",
    "_, acc = model.evaluate(features_test, targetH_test, verbose=0)\n",
    "print('Accuracy Score = ', (acc*100), '%')"
   ]
  },
  {
   "cell_type": "code",
   "execution_count": 16,
   "id": "5181332f",
   "metadata": {},
   "outputs": [
    {
     "name": "stdout",
     "output_type": "stream",
     "text": [
      "313/313 [==============================] - 1s 3ms/step\n"
     ]
    },
    {
     "data": {
      "image/png": "[encoded data removed]",
      "text/plain": [
       "<Figure size 720x720 with 1 Axes>"
      ]
     },
     "metadata": {
      "needs_background": "light"
     },
     "output_type": "display_data"
    }
   ],
   "source": [
    "# Set Figure\n",
    "fig = plt.figure(figsize=(10, 10))\n",
    "\n",
    "# Calculate predicted values\n",
    "y_pred = model.predict(features_test)\n",
    "# Decode predictions\n",
    "Y_pred = np.argmax(y_pred, 1)\n",
    "# Decode labels\n",
    "Y_test = np.argmax(targetH_test, 1) \n",
    "\n",
    "# Calculate confusion matrix on test data\n",
    "from sklearn.metrics import classification_report, confusion_matrix, accuracy_score\n",
    "matrix = confusion_matrix(Y_test, Y_pred)\n",
    "\n",
    "# Plot confusion matrix\n",
    "sns.heatmap(matrix.T, square=True, annot=True, cbar=False, cmap=plt.cm.Blues, fmt='.0f')\n",
    "plt.xlabel('Predicted Values')\n",
    "plt.ylabel('True Values');\n",
    "plt.show();"
   ]
  },
  {
   "cell_type": "markdown",
   "id": "c32e63c2",
   "metadata": {},
   "source": [
    "Both the accuracy score of 98.4% and the confusion matrix with the highest error of 12 show that this model is quite good at classifying the MNIST data. There are very few erroneously classified values with the greatest confusion occuring between numbers 2 and 7 and 9 and 7."
   ]
  }
 ],
 "metadata": {
  "kernelspec": {
   "display_name": "Python 3 (ipykernel)",
   "language": "python",
   "name": "python3"
  },
  "language_info": {
   "codemirror_mode": {
    "name": "ipython",
    "version": 3
   },
   "file_extension": ".py",
   "mimetype": "text/x-python",
   "name": "python",
   "nbconvert_exporter": "python",
   "pygments_lexer": "ipython3",
   "version": "3.9.18"
  }
 },
 "nbformat": 4,
 "nbformat_minor": 5
}
